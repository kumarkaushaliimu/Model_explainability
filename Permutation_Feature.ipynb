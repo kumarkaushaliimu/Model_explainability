{
  "nbformat": 4,
  "nbformat_minor": 0,
  "metadata": {
    "colab": {
      "provenance": [],
      "authorship_tag": "ABX9TyN8/dhzAEpd/jdYB6r+VCnD",
      "include_colab_link": true
    },
    "kernelspec": {
      "name": "python3",
      "display_name": "Python 3"
    },
    "language_info": {
      "name": "python"
    }
  },
  "cells": [
    {
      "cell_type": "markdown",
      "metadata": {
        "id": "view-in-github",
        "colab_type": "text"
      },
      "source": [
        "<a href=\"https://colab.research.google.com/github/kumarkaushaliimu/Model_explainability/blob/main/Permutation_Feature.ipynb\" target=\"_parent\"><img src=\"https://colab.research.google.com/assets/colab-badge.svg\" alt=\"Open In Colab\"/></a>"
      ]
    },
    {
      "cell_type": "code",
      "execution_count": 1,
      "metadata": {
        "id": "ddZGZTttEp9C"
      },
      "outputs": [],
      "source": [
        "from sklearn.datasets import load_diabetes\n",
        "from sklearn.model_selection import train_test_split\n",
        "from sklearn import linear_model\n",
        "diabetes = load_diabetes()\n"
      ]
    },
    {
      "cell_type": "code",
      "source": [
        "from sklearn.metrics import mean_squared_error, r2_score"
      ],
      "metadata": {
        "id": "edB_MIKPF9ki"
      },
      "execution_count": 5,
      "outputs": []
    },
    {
      "cell_type": "code",
      "source": [
        "X_train, X_val, y_train, y_val = train_test_split(diabetes.data, diabetes.target, random_state=45)\n",
        "\n",
        "model = linear_model.LinearRegression().fit(X_train, y_train)\n",
        "model.score(X_val, y_val)"
      ],
      "metadata": {
        "colab": {
          "base_uri": "https://localhost:8080/"
        },
        "id": "XRu3H4vNFSYw",
        "outputId": "7e39c63a-b6f8-43ad-ec76-56202142fd21"
      },
      "execution_count": 3,
      "outputs": [
        {
          "output_type": "execute_result",
          "data": {
            "text/plain": [
              "0.531500162778267"
            ]
          },
          "metadata": {},
          "execution_count": 3
        }
      ]
    },
    {
      "cell_type": "code",
      "source": [
        "# Make predictions using the testing set\n",
        "diabetes_y_pred = model.predict(X_val)\n",
        "\n",
        "# The coefficients\n",
        "print(\"Coefficients: \\n\", model.coef_)\n",
        "# The mean squared error\n",
        "print(\"Mean squared error: %.2f\" % mean_squared_error(y_val, diabetes_y_pred))\n",
        "print(\"Coefficient of determination: %.2f\" % r2_score(y_val, diabetes_y_pred))"
      ],
      "metadata": {
        "colab": {
          "base_uri": "https://localhost:8080/"
        },
        "id": "iwVR2UhtFwlX",
        "outputId": "312fb6aa-0a20-4804-86c5-69c66db2b975"
      },
      "execution_count": 7,
      "outputs": [
        {
          "output_type": "stream",
          "name": "stdout",
          "text": [
            "Coefficients: \n",
            " [  18.21556598 -213.19084388  503.59562443  333.7975315  -911.87869561\n",
            "  525.10114994  187.47471557  257.86194368  778.25254885   57.30169332]\n",
            "Mean squared error: 2392.43\n",
            "Coefficient of determination: 0.53\n"
          ]
        }
      ]
    },
    {
      "cell_type": "code",
      "source": [
        "from sklearn.inspection import permutation_importance\n",
        "r = permutation_importance(model, X_val, y_val,n_repeats=30,random_state=0)\n",
        "\n",
        "for i in r.importances_mean.argsort()[::-1]:\n",
        "  if r.importances_mean[i] - 2 * r.importances_std[i] > 0:\n",
        "    print(f\"{diabetes.feature_names[i]:<8}\"\n",
        "          f\"{r.importances_mean[i]:.3f}\"\n",
        "          f\" +/- {r.importances_std[i]:.3f}\")"
      ],
      "metadata": {
        "colab": {
          "base_uri": "https://localhost:8080/"
        },
        "id": "3embm4aGFSbq",
        "outputId": "ed588923-27ed-4547-a801-ba73e8bfa1e2"
      },
      "execution_count": 8,
      "outputs": [
        {
          "output_type": "stream",
          "name": "stdout",
          "text": [
            "s1      0.742 +/- 0.104\n",
            "s5      0.506 +/- 0.074\n",
            "s2      0.260 +/- 0.060\n",
            "bmi     0.210 +/- 0.042\n",
            "bp      0.071 +/- 0.029\n",
            "s4      0.063 +/- 0.024\n",
            "sex     0.061 +/- 0.017\n",
            "s3      0.033 +/- 0.015\n"
          ]
        }
      ]
    },
    {
      "cell_type": "code",
      "source": [],
      "metadata": {
        "id": "WOtnvPjOFSe8"
      },
      "execution_count": null,
      "outputs": []
    }
  ]
}